{
  "nbformat": 4,
  "nbformat_minor": 0,
  "metadata": {
    "kernelspec": {
      "display_name": "Python 3",
      "language": "python",
      "name": "python3"
    },
    "colab": {
      "name": "lesson7-resnet-mnist.ipynb",
      "provenance": [],
      "collapsed_sections": [
        "7P3_MDid1Fe5",
        "tIsdtHeF1Fgw",
        "b2TQ98g81FhW",
        "KjzsDChg1Fhp"
      ]
    }
  },
  "cells": [
    {
      "cell_type": "markdown",
      "metadata": {
        "id": "rn_IvblP1Fea",
        "colab_type": "text"
      },
      "source": [
        "## MNIST CNN"
      ]
    },
    {
      "cell_type": "code",
      "metadata": {
        "id": "gqda4Suj1Fed",
        "colab_type": "code",
        "colab": {}
      },
      "source": [
        "%reload_ext autoreload\n",
        "%autoreload 2\n",
        "%matplotlib inline"
      ],
      "execution_count": 0,
      "outputs": []
    },
    {
      "cell_type": "code",
      "metadata": {
        "id": "INL6MeDw1Fe0",
        "colab_type": "code",
        "colab": {}
      },
      "source": [
        "from fastai.vision import *"
      ],
      "execution_count": 0,
      "outputs": []
    },
    {
      "cell_type": "markdown",
      "metadata": {
        "id": "7P3_MDid1Fe5",
        "colab_type": "text"
      },
      "source": [
        "### Data"
      ]
    },
    {
      "cell_type": "code",
      "metadata": {
        "id": "dajbQ8--1Fe7",
        "colab_type": "code",
        "outputId": "d7009107-8d23-4620-c409-afc6339ca284",
        "colab": {
          "base_uri": "https://localhost:8080/",
          "height": 36
        }
      },
      "source": [
        "path = untar_data(URLs.MNIST)\n",
        "\n",
        "# MNIST DataSet"
      ],
      "execution_count": 3,
      "outputs": [
        {
          "output_type": "stream",
          "text": [
            "Downloading https://s3.amazonaws.com/fast-ai-imageclas/mnist_png.tgz\n"
          ],
          "name": "stdout"
        },
        {
          "output_type": "display_data",
          "data": {
            "text/html": [
              ""
            ],
            "text/plain": [
              "<IPython.core.display.HTML object>"
            ]
          },
          "metadata": {
            "tags": []
          }
        }
      ]
    },
    {
      "cell_type": "code",
      "metadata": {
        "id": "zx-iWtls1FfA",
        "colab_type": "code",
        "outputId": "94167581-1a3e-460c-f001-d417167da651",
        "colab": {
          "base_uri": "https://localhost:8080/",
          "height": 55
        }
      },
      "source": [
        "path.ls()"
      ],
      "execution_count": 6,
      "outputs": [
        {
          "output_type": "execute_result",
          "data": {
            "text/plain": [
              "[PosixPath('/root/.fastai/data/mnist_png/testing'),\n",
              " PosixPath('/root/.fastai/data/mnist_png/training')]"
            ]
          },
          "metadata": {
            "tags": []
          },
          "execution_count": 6
        }
      ]
    },
    {
      "cell_type": "code",
      "metadata": {
        "id": "tQ6eWu1w1FfM",
        "colab_type": "code",
        "colab": {}
      },
      "source": [
        "il = ImageList.from_folder(path, convert_mode='L')"
      ],
      "execution_count": 0,
      "outputs": []
    },
    {
      "cell_type": "code",
      "metadata": {
        "id": "I5YnfhSa1FfR",
        "colab_type": "code",
        "outputId": "a36f0f62-37d9-49f6-9fec-bb0764e6ace9",
        "colab": {
          "base_uri": "https://localhost:8080/",
          "height": 36
        }
      },
      "source": [
        "il.items[0]"
      ],
      "execution_count": 8,
      "outputs": [
        {
          "output_type": "execute_result",
          "data": {
            "text/plain": [
              "PosixPath('/root/.fastai/data/mnist_png/testing/9/3884.png')"
            ]
          },
          "metadata": {
            "tags": []
          },
          "execution_count": 8
        }
      ]
    },
    {
      "cell_type": "code",
      "metadata": {
        "id": "FT-HCm3p1FfW",
        "colab_type": "code",
        "colab": {}
      },
      "source": [
        "defaults.cmap='binary'"
      ],
      "execution_count": 0,
      "outputs": []
    },
    {
      "cell_type": "code",
      "metadata": {
        "id": "cJMprRF01Ffb",
        "colab_type": "code",
        "outputId": "30219a9d-4ce7-4f1d-c8ef-0294fe9413cd",
        "colab": {
          "base_uri": "https://localhost:8080/",
          "height": 73
        }
      },
      "source": [
        "il"
      ],
      "execution_count": 10,
      "outputs": [
        {
          "output_type": "execute_result",
          "data": {
            "text/plain": [
              "ImageList (70000 items)\n",
              "Image (1, 28, 28),Image (1, 28, 28),Image (1, 28, 28),Image (1, 28, 28),Image (1, 28, 28)\n",
              "Path: /root/.fastai/data/mnist_png"
            ]
          },
          "metadata": {
            "tags": []
          },
          "execution_count": 10
        }
      ]
    },
    {
      "cell_type": "code",
      "metadata": {
        "id": "h1Ff52u11Ffg",
        "colab_type": "code",
        "outputId": "10e90517-1575-4ca3-8e69-64fc8051ca91",
        "colab": {
          "base_uri": "https://localhost:8080/",
          "height": 194
        }
      },
      "source": [
        "il[0].show()"
      ],
      "execution_count": 11,
      "outputs": [
        {
          "output_type": "display_data",
          "data": {
            "image/png": "[encoded data removed]",
            "text/plain": [
              "<Figure size 216x216 with 1 Axes>"
            ]
          },
          "metadata": {
            "tags": [],
            "needs_background": "light"
          }
        }
      ]
    },
    {
      "cell_type": "code",
      "metadata": {
        "id": "tad4s2tS1Ffl",
        "colab_type": "code",
        "colab": {}
      },
      "source": [
        "sd = il.split_by_folder(train='training', valid='testing')"
      ],
      "execution_count": 0,
      "outputs": []
    },
    {
      "cell_type": "code",
      "metadata": {
        "id": "gGNQ0H8C1Ffp",
        "colab_type": "code",
        "outputId": "57c549b6-4dbe-4c3e-d7c9-8ba51e2eaeb6",
        "colab": {
          "base_uri": "https://localhost:8080/",
          "height": 223
        }
      },
      "source": [
        "sd"
      ],
      "execution_count": 13,
      "outputs": [
        {
          "output_type": "execute_result",
          "data": {
            "text/plain": [
              "ItemLists;\n",
              "\n",
              "Train: ImageList (60000 items)\n",
              "Image (1, 28, 28),Image (1, 28, 28),Image (1, 28, 28),Image (1, 28, 28),Image (1, 28, 28)\n",
              "Path: /root/.fastai/data/mnist_png;\n",
              "\n",
              "Valid: ImageList (10000 items)\n",
              "Image (1, 28, 28),Image (1, 28, 28),Image (1, 28, 28),Image (1, 28, 28),Image (1, 28, 28)\n",
              "Path: /root/.fastai/data/mnist_png;\n",
              "\n",
              "Test: None"
            ]
          },
          "metadata": {
            "tags": []
          },
          "execution_count": 13
        }
      ]
    },
    {
      "cell_type": "code",
      "metadata": {
        "id": "-Moon5v31Ffv",
        "colab_type": "code",
        "outputId": "c772101c-1d62-486e-ff49-fe106d48e918",
        "colab": {
          "base_uri": "https://localhost:8080/",
          "height": 204
        }
      },
      "source": [
        "(path/'training').ls()"
      ],
      "execution_count": 14,
      "outputs": [
        {
          "output_type": "execute_result",
          "data": {
            "text/plain": [
              "[PosixPath('/root/.fastai/data/mnist_png/training/9'),\n",
              " PosixPath('/root/.fastai/data/mnist_png/training/4'),\n",
              " PosixPath('/root/.fastai/data/mnist_png/training/0'),\n",
              " PosixPath('/root/.fastai/data/mnist_png/training/5'),\n",
              " PosixPath('/root/.fastai/data/mnist_png/training/8'),\n",
              " PosixPath('/root/.fastai/data/mnist_png/training/2'),\n",
              " PosixPath('/root/.fastai/data/mnist_png/training/1'),\n",
              " PosixPath('/root/.fastai/data/mnist_png/training/7'),\n",
              " PosixPath('/root/.fastai/data/mnist_png/training/3'),\n",
              " PosixPath('/root/.fastai/data/mnist_png/training/6')]"
            ]
          },
          "metadata": {
            "tags": []
          },
          "execution_count": 14
        }
      ]
    },
    {
      "cell_type": "code",
      "metadata": {
        "id": "AEbKeOQr1Ff0",
        "colab_type": "code",
        "colab": {}
      },
      "source": [
        "ll = sd.label_from_folder()"
      ],
      "execution_count": 0,
      "outputs": []
    },
    {
      "cell_type": "code",
      "metadata": {
        "id": "kCg0gOmD1Ff4",
        "colab_type": "code",
        "outputId": "a6adb389-decd-4fd2-fa4d-8982a6a6e5ee",
        "colab": {
          "base_uri": "https://localhost:8080/",
          "height": 335
        }
      },
      "source": [
        "ll"
      ],
      "execution_count": 16,
      "outputs": [
        {
          "output_type": "execute_result",
          "data": {
            "text/plain": [
              "LabelLists;\n",
              "\n",
              "Train: LabelList (60000 items)\n",
              "x: ImageList\n",
              "Image (1, 28, 28),Image (1, 28, 28),Image (1, 28, 28),Image (1, 28, 28),Image (1, 28, 28)\n",
              "y: CategoryList\n",
              "9,9,9,9,9\n",
              "Path: /root/.fastai/data/mnist_png;\n",
              "\n",
              "Valid: LabelList (10000 items)\n",
              "x: ImageList\n",
              "Image (1, 28, 28),Image (1, 28, 28),Image (1, 28, 28),Image (1, 28, 28),Image (1, 28, 28)\n",
              "y: CategoryList\n",
              "9,9,9,9,9\n",
              "Path: /root/.fastai/data/mnist_png;\n",
              "\n",
              "Test: None"
            ]
          },
          "metadata": {
            "tags": []
          },
          "execution_count": 16
        }
      ]
    },
    {
      "cell_type": "code",
      "metadata": {
        "id": "L9UnQWEy1Ff8",
        "colab_type": "code",
        "colab": {}
      },
      "source": [
        "x,y = ll.train[0]"
      ],
      "execution_count": 0,
      "outputs": []
    },
    {
      "cell_type": "code",
      "metadata": {
        "id": "nDCVpF-j1FgB",
        "colab_type": "code",
        "outputId": "59520997-8e92-43b9-ff00-680faea25fe6",
        "colab": {
          "base_uri": "https://localhost:8080/",
          "height": 213
        }
      },
      "source": [
        "x.show()\n",
        "print(y,x.shape)"
      ],
      "execution_count": 18,
      "outputs": [
        {
          "output_type": "stream",
          "text": [
            "9 torch.Size([1, 28, 28])\n"
          ],
          "name": "stdout"
        },
        {
          "output_type": "display_data",
          "data": {
            "image/png": "[encoded data removed]",
            "text/plain": [
              "<Figure size 216x216 with 1 Axes>"
            ]
          },
          "metadata": {
            "tags": [],
            "needs_background": "light"
          }
        }
      ]
    },
    {
      "cell_type": "code",
      "metadata": {
        "id": "g-1mRXVp1FgG",
        "colab_type": "code",
        "colab": {}
      },
      "source": [
        "tfms = ([*rand_pad(padding=3, size=28, mode='zeros')], [])"
      ],
      "execution_count": 0,
      "outputs": []
    },
    {
      "cell_type": "code",
      "metadata": {
        "id": "h8o01TmV1FgL",
        "colab_type": "code",
        "colab": {}
      },
      "source": [
        "ll = ll.transform(tfms)"
      ],
      "execution_count": 0,
      "outputs": []
    },
    {
      "cell_type": "code",
      "metadata": {
        "id": "drAweagW1FgP",
        "colab_type": "code",
        "colab": {}
      },
      "source": [
        "bs = 128"
      ],
      "execution_count": 0,
      "outputs": []
    },
    {
      "cell_type": "code",
      "metadata": {
        "id": "HHJAKU421FgT",
        "colab_type": "code",
        "colab": {}
      },
      "source": [
        "# not using imagenet_stats because not using pretrained model\n",
        "data = ll.databunch(bs=bs).normalize()"
      ],
      "execution_count": 0,
      "outputs": []
    },
    {
      "cell_type": "code",
      "metadata": {
        "id": "7DLP7dwL1FgX",
        "colab_type": "code",
        "colab": {}
      },
      "source": [
        "x,y = data.train_ds[0]"
      ],
      "execution_count": 0,
      "outputs": []
    },
    {
      "cell_type": "code",
      "metadata": {
        "id": "A3IUOHAT1Fgb",
        "colab_type": "code",
        "outputId": "7056900b-2943-4038-e7bd-cf093f0da90c",
        "colab": {
          "base_uri": "https://localhost:8080/",
          "height": 213
        }
      },
      "source": [
        "x.show()\n",
        "print(y)"
      ],
      "execution_count": 24,
      "outputs": [
        {
          "output_type": "stream",
          "text": [
            "9\n"
          ],
          "name": "stdout"
        },
        {
          "output_type": "display_data",
          "data": {
            "image/png": "[encoded data removed]",
            "text/plain": [
              "<Figure size 216x216 with 1 Axes>"
            ]
          },
          "metadata": {
            "tags": [],
            "needs_background": "light"
          }
        }
      ]
    },
    {
      "cell_type": "code",
      "metadata": {
        "id": "bc1rqig-1Fgi",
        "colab_type": "code",
        "outputId": "f3d134ce-888a-49d2-cd23-c20a971e7e9c",
        "colab": {
          "base_uri": "https://localhost:8080/",
          "height": 466
        }
      },
      "source": [
        "def _plot(i,j,ax): data.train_ds[0][0].show(ax, cmap='gray')\n",
        "plot_multi(_plot, 3, 3, figsize=(8,8))"
      ],
      "execution_count": 25,
      "outputs": [
        {
          "output_type": "display_data",
          "data": {
            "image/png": "[encoded data removed]",
            "text/plain": [
              "<Figure size 576x576 with 9 Axes>"
            ]
          },
          "metadata": {
            "tags": [],
            "needs_background": "light"
          }
        }
      ]
    },
    {
      "cell_type": "code",
      "metadata": {
        "id": "mfr0IDLs1Fgn",
        "colab_type": "code",
        "outputId": "7bc98e0c-0e31-45d1-ed72-6c82ff60da04",
        "colab": {
          "base_uri": "https://localhost:8080/",
          "height": 36
        }
      },
      "source": [
        "xb,yb = data.one_batch()\n",
        "xb.shape,yb.shape"
      ],
      "execution_count": 26,
      "outputs": [
        {
          "output_type": "execute_result",
          "data": {
            "text/plain": [
              "(torch.Size([128, 1, 28, 28]), torch.Size([128]))"
            ]
          },
          "metadata": {
            "tags": []
          },
          "execution_count": 26
        }
      ]
    },
    {
      "cell_type": "code",
      "metadata": {
        "id": "orhk8VEK1Fgr",
        "colab_type": "code",
        "outputId": "9eadc88f-f269-4aad-b6f0-5107e8f5e75f",
        "colab": {
          "base_uri": "https://localhost:8080/",
          "height": 369
        }
      },
      "source": [
        "data.show_batch(rows=3, figsize=(5,5))"
      ],
      "execution_count": 27,
      "outputs": [
        {
          "output_type": "display_data",
          "data": {
            "image/png": "[encoded data removed]",
            "text/plain": [
              "<Figure size 360x360 with 9 Axes>"
            ]
          },
          "metadata": {
            "tags": [],
            "needs_background": "light"
          }
        }
      ]
    },
    {
      "cell_type": "markdown",
      "metadata": {
        "id": "tIsdtHeF1Fgw",
        "colab_type": "text"
      },
      "source": [
        "### Basic CNN with batchnorm"
      ]
    },
    {
      "cell_type": "code",
      "metadata": {
        "id": "yY713Msu1Fgx",
        "colab_type": "code",
        "colab": {}
      },
      "source": [
        "def conv(ni,nf): return nn.Conv2d(ni, nf, kernel_size=3, stride=2, padding=1)\n",
        "\n",
        "# Conv2d\n",
        "\n",
        "## This layer creates a convolution kernel that is convolved with the layer input to produce a tensor of outputs. \n",
        "## If use_bias is True, a bias vector is created and added to the outputs. Finally, if activation is not None, it is applied to the outputs as well."
      ],
      "execution_count": 0,
      "outputs": []
    },
    {
      "cell_type": "code",
      "metadata": {
        "id": "_4T5wfH21Fg1",
        "colab_type": "code",
        "colab": {}
      },
      "source": [
        "model = nn.Sequential(\n",
        "    conv(1, 8), # 14\n",
        "    nn.BatchNorm2d(8),\n",
        "    nn.ReLU(),\n",
        "    conv(8, 16), # 7\n",
        "    nn.BatchNorm2d(16),\n",
        "    nn.ReLU(),\n",
        "    conv(16, 32), # 4\n",
        "    nn.BatchNorm2d(32),\n",
        "    nn.ReLU(),\n",
        "    conv(32, 16), # 2\n",
        "    nn.BatchNorm2d(16),\n",
        "    nn.ReLU(),\n",
        "    conv(16, 10), # 1\n",
        "    nn.BatchNorm2d(10),\n",
        "    Flatten()     # remove (1,1) grid\n",
        ")\n",
        "\n",
        "# ReLU\n",
        "## 0보다 작은 값이 나온 경우 0을 반환하고, 0보다 큰 값이 나온 경우 그 값을 그대로 반환하는 함수"
      ],
      "execution_count": 0,
      "outputs": []
    },
    {
      "cell_type": "code",
      "metadata": {
        "id": "GFEs_aBT1Fg5",
        "colab_type": "code",
        "colab": {}
      },
      "source": [
        "learn = Learner(data, model, loss_func = nn.CrossEntropyLoss(), metrics=accuracy)"
      ],
      "execution_count": 0,
      "outputs": []
    },
    {
      "cell_type": "code",
      "metadata": {
        "id": "Ry9uymGO1Fg9",
        "colab_type": "code",
        "outputId": "2993018b-083f-4802-a014-788c6999978c",
        "colab": {
          "base_uri": "https://localhost:8080/",
          "height": 839
        }
      },
      "source": [
        "print(learn.summary())"
      ],
      "execution_count": 31,
      "outputs": [
        {
          "output_type": "stream",
          "text": [
            "Sequential\n",
            "======================================================================\n",
            "Layer (type)         Output Shape         Param #    Trainable \n",
            "======================================================================\n",
            "Conv2d               [8, 14, 14]          80         True      \n",
            "______________________________________________________________________\n",
            "BatchNorm2d          [8, 14, 14]          16         True      \n",
            "______________________________________________________________________\n",
            "ReLU                 [8, 14, 14]          0          False     \n",
            "______________________________________________________________________\n",
            "Conv2d               [16, 7, 7]           1,168      True      \n",
            "______________________________________________________________________\n",
            "BatchNorm2d          [16, 7, 7]           32         True      \n",
            "______________________________________________________________________\n",
            "ReLU                 [16, 7, 7]           0          False     \n",
            "______________________________________________________________________\n",
            "Conv2d               [32, 4, 4]           4,640      True      \n",
            "______________________________________________________________________\n",
            "BatchNorm2d          [32, 4, 4]           64         True      \n",
            "______________________________________________________________________\n",
            "ReLU                 [32, 4, 4]           0          False     \n",
            "______________________________________________________________________\n",
            "Conv2d               [16, 2, 2]           4,624      True      \n",
            "______________________________________________________________________\n",
            "BatchNorm2d          [16, 2, 2]           32         True      \n",
            "______________________________________________________________________\n",
            "ReLU                 [16, 2, 2]           0          False     \n",
            "______________________________________________________________________\n",
            "Conv2d               [10, 1, 1]           1,450      True      \n",
            "______________________________________________________________________\n",
            "BatchNorm2d          [10, 1, 1]           20         True      \n",
            "______________________________________________________________________\n",
            "Flatten              [10]                 0          False     \n",
            "______________________________________________________________________\n",
            "\n",
            "Total params: 12,126\n",
            "Total trainable params: 12,126\n",
            "Total non-trainable params: 0\n",
            "Optimized with 'torch.optim.adam.Adam', betas=(0.9, 0.99)\n",
            "Using true weight decay as discussed in https://www.fast.ai/2018/07/02/adam-weight-decay/ \n",
            "Loss function : CrossEntropyLoss\n",
            "======================================================================\n",
            "Callbacks functions applied \n",
            "\n"
          ],
          "name": "stdout"
        }
      ]
    },
    {
      "cell_type": "code",
      "metadata": {
        "id": "aLzt2BWl1FhC",
        "colab_type": "code",
        "outputId": "64368c3e-7510-4271-b8dd-a40c7a726412",
        "colab": {
          "base_uri": "https://localhost:8080/",
          "height": 307
        }
      },
      "source": [
        "xb = xb.cuda()\n",
        "\n",
        "## 다음과 같은 RuntimeError가 발생합니다."
      ],
      "execution_count": 32,
      "outputs": [
        {
          "output_type": "error",
          "ename": "RuntimeError",
          "evalue": "ignored",
          "traceback": [
            "\u001b[0;31m---------------------------------------------------------------------------\u001b[0m",
            "\u001b[0;31mRuntimeError\u001b[0m                              Traceback (most recent call last)",
            "\u001b[0;32m<ipython-input-32-76fc84feb73b>\u001b[0m in \u001b[0;36m<module>\u001b[0;34m()\u001b[0m\n\u001b[0;32m----> 1\u001b[0;31m \u001b[0mxb\u001b[0m \u001b[0;34m=\u001b[0m \u001b[0mxb\u001b[0m\u001b[0;34m.\u001b[0m\u001b[0mcuda\u001b[0m\u001b[0;34m(\u001b[0m\u001b[0;34m)\u001b[0m\u001b[0;34m\u001b[0m\u001b[0;34m\u001b[0m\u001b[0m\n\u001b[0m",
            "\u001b[0;32m/usr/local/lib/python3.6/dist-packages/torch/cuda/__init__.py\u001b[0m in \u001b[0;36m_lazy_init\u001b[0;34m()\u001b[0m\n\u001b[1;32m    151\u001b[0m             raise AssertionError(\n\u001b[1;32m    152\u001b[0m                 \"libcudart functions unavailable. It looks like you have a broken build?\")\n\u001b[0;32m--> 153\u001b[0;31m         \u001b[0mtorch\u001b[0m\u001b[0;34m.\u001b[0m\u001b[0m_C\u001b[0m\u001b[0;34m.\u001b[0m\u001b[0m_cuda_init\u001b[0m\u001b[0;34m(\u001b[0m\u001b[0;34m)\u001b[0m\u001b[0;34m\u001b[0m\u001b[0;34m\u001b[0m\u001b[0m\n\u001b[0m\u001b[1;32m    154\u001b[0m         \u001b[0;31m# Some of the queued calls may reentrantly call _lazy_init();\u001b[0m\u001b[0;34m\u001b[0m\u001b[0;34m\u001b[0m\u001b[0;34m\u001b[0m\u001b[0m\n\u001b[1;32m    155\u001b[0m         \u001b[0;31m# we need to just return without initializing in that case.\u001b[0m\u001b[0;34m\u001b[0m\u001b[0;34m\u001b[0m\u001b[0;34m\u001b[0m\u001b[0m\n",
            "\u001b[0;31mRuntimeError\u001b[0m: cuda runtime error (100) : no CUDA-capable device is detected at /pytorch/aten/src/THC/THCGeneral.cpp:47"
          ]
        }
      ]
    },
    {
      "cell_type": "code",
      "metadata": {
        "id": "wDL0j67i1FhF",
        "colab_type": "code",
        "outputId": "e6fddca1-ea59-435c-ad85-a8ae9c87e716",
        "colab": {
          "base_uri": "https://localhost:8080/",
          "height": 36
        }
      },
      "source": [
        "model(xb).shape"
      ],
      "execution_count": 33,
      "outputs": [
        {
          "output_type": "execute_result",
          "data": {
            "text/plain": [
              "torch.Size([128, 10])"
            ]
          },
          "metadata": {
            "tags": []
          },
          "execution_count": 33
        }
      ]
    },
    {
      "cell_type": "code",
      "metadata": {
        "id": "z1_xQ7LC1FhJ",
        "colab_type": "code",
        "outputId": "7f28a13b-d40b-4ccc-b5a1-0f59538c909f",
        "colab": {
          "base_uri": "https://localhost:8080/",
          "height": 115
        }
      },
      "source": [
        "learn.lr_find(end_lr=100)"
      ],
      "execution_count": 34,
      "outputs": [
        {
          "output_type": "display_data",
          "data": {
            "text/html": [
              "\n",
              "    <div>\n",
              "        <style>\n",
              "            /* Turns off some styling */\n",
              "            progress {\n",
              "                /* gets rid of default border in Firefox and Opera. */\n",
              "                border: none;\n",
              "                /* Needs to be in here for Safari polyfill so background images work as expected. */\n",
              "                background-size: auto;\n",
              "            }\n",
              "            .progress-bar-interrupted, .progress-bar-interrupted::-webkit-progress-bar {\n",
              "                background: #F44336;\n",
              "            }\n",
              "        </style>\n",
              "      <progress value='0' class='' max='1' style='width:300px; height:20px; vertical-align: middle;'></progress>\n",
              "      0.00% [0/1 00:00<00:00]\n",
              "    </div>\n",
              "    \n",
              "<table border=\"1\" class=\"dataframe\">\n",
              "  <thead>\n",
              "    <tr style=\"text-align: left;\">\n",
              "      <th>epoch</th>\n",
              "      <th>train_loss</th>\n",
              "      <th>valid_loss</th>\n",
              "      <th>accuracy</th>\n",
              "      <th>time</th>\n",
              "    </tr>\n",
              "  </thead>\n",
              "  <tbody>\n",
              "  </tbody>\n",
              "</table><p>\n",
              "\n",
              "    <div>\n",
              "        <style>\n",
              "            /* Turns off some styling */\n",
              "            progress {\n",
              "                /* gets rid of default border in Firefox and Opera. */\n",
              "                border: none;\n",
              "                /* Needs to be in here for Safari polyfill so background images work as expected. */\n",
              "                background-size: auto;\n",
              "            }\n",
              "            .progress-bar-interrupted, .progress-bar-interrupted::-webkit-progress-bar {\n",
              "                background: #F44336;\n",
              "            }\n",
              "        </style>\n",
              "      <progress value='98' class='' max='468' style='width:300px; height:20px; vertical-align: middle;'></progress>\n",
              "      20.94% [98/468 00:07<00:27 2.3814]\n",
              "    </div>\n",
              "    "
            ],
            "text/plain": [
              "<IPython.core.display.HTML object>"
            ]
          },
          "metadata": {
            "tags": []
          }
        },
        {
          "output_type": "stream",
          "text": [
            "LR Finder is complete, type {learner_name}.recorder.plot() to see the graph.\n"
          ],
          "name": "stdout"
        }
      ]
    },
    {
      "cell_type": "code",
      "metadata": {
        "id": "Cc6REHd71FhO",
        "colab_type": "code",
        "outputId": "6dbe5717-cfed-4452-8f6d-b12f4fb20a75",
        "colab": {
          "base_uri": "https://localhost:8080/",
          "height": 279
        }
      },
      "source": [
        "learn.recorder.plot()"
      ],
      "execution_count": 35,
      "outputs": [
        {
          "output_type": "display_data",
          "data": {
            "image/png": "[encoded data removed]",
            "text/plain": [
              "<Figure size 432x288 with 1 Axes>"
            ]
          },
          "metadata": {
            "tags": [],
            "needs_background": "light"
          }
        }
      ]
    },
    {
      "cell_type": "code",
      "metadata": {
        "id": "kPnG2hdK1FhS",
        "colab_type": "code",
        "outputId": "b297de6e-02b4-441a-94f2-7d0cdba2db4c",
        "colab": {
          "base_uri": "https://localhost:8080/",
          "height": 141
        }
      },
      "source": [
        "learn.fit_one_cycle(3, max_lr=0.1)"
      ],
      "execution_count": 36,
      "outputs": [
        {
          "output_type": "display_data",
          "data": {
            "text/html": [
              "<table border=\"1\" class=\"dataframe\">\n",
              "  <thead>\n",
              "    <tr style=\"text-align: left;\">\n",
              "      <th>epoch</th>\n",
              "      <th>train_loss</th>\n",
              "      <th>valid_loss</th>\n",
              "      <th>accuracy</th>\n",
              "      <th>time</th>\n",
              "    </tr>\n",
              "  </thead>\n",
              "  <tbody>\n",
              "    <tr>\n",
              "      <td>0</td>\n",
              "      <td>0.222747</td>\n",
              "      <td>0.544702</td>\n",
              "      <td>0.825600</td>\n",
              "      <td>00:37</td>\n",
              "    </tr>\n",
              "    <tr>\n",
              "      <td>1</td>\n",
              "      <td>0.128783</td>\n",
              "      <td>0.282049</td>\n",
              "      <td>0.909600</td>\n",
              "      <td>00:36</td>\n",
              "    </tr>\n",
              "    <tr>\n",
              "      <td>2</td>\n",
              "      <td>0.078232</td>\n",
              "      <td>0.036394</td>\n",
              "      <td>0.988200</td>\n",
              "      <td>00:36</td>\n",
              "    </tr>\n",
              "  </tbody>\n",
              "</table>"
            ],
            "text/plain": [
              "<IPython.core.display.HTML object>"
            ]
          },
          "metadata": {
            "tags": []
          }
        }
      ]
    },
    {
      "cell_type": "markdown",
      "metadata": {
        "id": "b2TQ98g81FhW",
        "colab_type": "text"
      },
      "source": [
        "### Refactor"
      ]
    },
    {
      "cell_type": "code",
      "metadata": {
        "id": "e0PD1zDH1FhX",
        "colab_type": "code",
        "colab": {}
      },
      "source": [
        "def conv2(ni,nf): return conv_layer(ni,nf,stride=2)\n",
        "\n",
        "# conv_layer\n",
        "## 합성곱 계층으로 conv2d() 함수에 정의된 선형 합성곱에 편향값을 더한 후 비선형 함수인 ReLU를 적용한다."
      ],
      "execution_count": 0,
      "outputs": []
    },
    {
      "cell_type": "code",
      "metadata": {
        "id": "_wf2p2zJ1Fhb",
        "colab_type": "code",
        "colab": {}
      },
      "source": [
        "model = nn.Sequential(\n",
        "    conv2(1, 8),   # 14\n",
        "    conv2(8, 16),  # 7\n",
        "    conv2(16, 32), # 4\n",
        "    conv2(32, 16), # 2\n",
        "    conv2(16, 10), # 1\n",
        "    Flatten()      # remove (1,1) grid\n",
        ")"
      ],
      "execution_count": 0,
      "outputs": []
    },
    {
      "cell_type": "code",
      "metadata": {
        "id": "9Xm7wgmC1Fhg",
        "colab_type": "code",
        "colab": {}
      },
      "source": [
        "learn = Learner(data, model, loss_func = nn.CrossEntropyLoss(), metrics=accuracy)\n",
        "\n",
        "# CrossEntropyLoss\n",
        "## 다중분류를 위한 대표적인 손실함수"
      ],
      "execution_count": 0,
      "outputs": []
    },
    {
      "cell_type": "code",
      "metadata": {
        "id": "ZCXf3Ksk1Fhk",
        "colab_type": "code",
        "outputId": "3d2a0889-029b-4573-d8dc-498eb66aa375",
        "colab": {
          "base_uri": "https://localhost:8080/",
          "height": 355
        }
      },
      "source": [
        "learn.fit_one_cycle(10, max_lr=0.1)"
      ],
      "execution_count": 40,
      "outputs": [
        {
          "output_type": "display_data",
          "data": {
            "text/html": [
              "<table border=\"1\" class=\"dataframe\">\n",
              "  <thead>\n",
              "    <tr style=\"text-align: left;\">\n",
              "      <th>epoch</th>\n",
              "      <th>train_loss</th>\n",
              "      <th>valid_loss</th>\n",
              "      <th>accuracy</th>\n",
              "      <th>time</th>\n",
              "    </tr>\n",
              "  </thead>\n",
              "  <tbody>\n",
              "    <tr>\n",
              "      <td>0</td>\n",
              "      <td>0.240305</td>\n",
              "      <td>0.156111</td>\n",
              "      <td>0.950400</td>\n",
              "      <td>00:36</td>\n",
              "    </tr>\n",
              "    <tr>\n",
              "      <td>1</td>\n",
              "      <td>0.184908</td>\n",
              "      <td>0.237586</td>\n",
              "      <td>0.927800</td>\n",
              "      <td>00:37</td>\n",
              "    </tr>\n",
              "    <tr>\n",
              "      <td>2</td>\n",
              "      <td>0.166571</td>\n",
              "      <td>0.131377</td>\n",
              "      <td>0.960100</td>\n",
              "      <td>00:37</td>\n",
              "    </tr>\n",
              "    <tr>\n",
              "      <td>3</td>\n",
              "      <td>0.140517</td>\n",
              "      <td>0.195404</td>\n",
              "      <td>0.936100</td>\n",
              "      <td>00:38</td>\n",
              "    </tr>\n",
              "    <tr>\n",
              "      <td>4</td>\n",
              "      <td>0.124816</td>\n",
              "      <td>0.161370</td>\n",
              "      <td>0.950000</td>\n",
              "      <td>00:37</td>\n",
              "    </tr>\n",
              "    <tr>\n",
              "      <td>5</td>\n",
              "      <td>0.104747</td>\n",
              "      <td>0.096349</td>\n",
              "      <td>0.970800</td>\n",
              "      <td>00:37</td>\n",
              "    </tr>\n",
              "    <tr>\n",
              "      <td>6</td>\n",
              "      <td>0.080339</td>\n",
              "      <td>0.061040</td>\n",
              "      <td>0.978900</td>\n",
              "      <td>00:37</td>\n",
              "    </tr>\n",
              "    <tr>\n",
              "      <td>7</td>\n",
              "      <td>0.064303</td>\n",
              "      <td>0.039641</td>\n",
              "      <td>0.986600</td>\n",
              "      <td>00:36</td>\n",
              "    </tr>\n",
              "    <tr>\n",
              "      <td>8</td>\n",
              "      <td>0.047843</td>\n",
              "      <td>0.029855</td>\n",
              "      <td>0.989900</td>\n",
              "      <td>00:37</td>\n",
              "    </tr>\n",
              "    <tr>\n",
              "      <td>9</td>\n",
              "      <td>0.045137</td>\n",
              "      <td>0.028819</td>\n",
              "      <td>0.989900</td>\n",
              "      <td>00:37</td>\n",
              "    </tr>\n",
              "  </tbody>\n",
              "</table>"
            ],
            "text/plain": [
              "<IPython.core.display.HTML object>"
            ]
          },
          "metadata": {
            "tags": []
          }
        }
      ]
    },
    {
      "cell_type": "markdown",
      "metadata": {
        "id": "KjzsDChg1Fhp",
        "colab_type": "text"
      },
      "source": [
        "### Resnet-ish"
      ]
    },
    {
      "cell_type": "code",
      "metadata": {
        "id": "SnuMSkDA1Fhq",
        "colab_type": "code",
        "colab": {}
      },
      "source": [
        "class ResBlock(nn.Module):\n",
        "    def __init__(self, nf):\n",
        "        super().__init__()\n",
        "        self.conv1 = conv_layer(nf,nf)\n",
        "        self.conv2 = conv_layer(nf,nf)\n",
        "        \n",
        "    def forward(self, x): return x + self.conv2(self.conv1(x))"
      ],
      "execution_count": 0,
      "outputs": []
    },
    {
      "cell_type": "code",
      "metadata": {
        "id": "CNocG29v1Fhx",
        "colab_type": "code",
        "outputId": "ac36d0e8-3a2d-40a5-9e95-89e42c643e78",
        "colab": {
          "base_uri": "https://localhost:8080/",
          "height": 107
        }
      },
      "source": [
        "help(res_block)\n",
        "\n",
        "# res_block\n",
        "## Resnet block of nf features. conv_kwargs are passed to conv_layer."
      ],
      "execution_count": 0,
      "outputs": [
        {
          "output_type": "stream",
          "text": [
            "Help on function res_block in module fastai.layers:\n",
            "\n",
            "res_block(nf, dense:bool=False, norm_type:Union[fastai.layers.NormType, NoneType]=<NormType.Batch: 1>, bottle:bool=False, **conv_kwargs)\n",
            "    Resnet block of `nf` features. `conv_kwargs` are passed to `conv_layer`.\n",
            "\n"
          ],
          "name": "stdout"
        }
      ]
    },
    {
      "cell_type": "code",
      "metadata": {
        "id": "h09GmoUI1Fh3",
        "colab_type": "code",
        "colab": {}
      },
      "source": [
        "model = nn.Sequential(\n",
        "    conv2(1, 8),\n",
        "    res_block(8),\n",
        "    conv2(8, 16),\n",
        "    res_block(16),\n",
        "    conv2(16, 32),\n",
        "    res_block(32),\n",
        "    conv2(32, 16),\n",
        "    res_block(16),\n",
        "    conv2(16, 10),\n",
        "    Flatten()\n",
        ")"
      ],
      "execution_count": 0,
      "outputs": []
    },
    {
      "cell_type": "code",
      "metadata": {
        "id": "1B5Sy56g1Fh8",
        "colab_type": "code",
        "colab": {}
      },
      "source": [
        "def conv_and_res(ni,nf): return nn.Sequential(conv2(ni, nf), res_block(nf))"
      ],
      "execution_count": 0,
      "outputs": []
    },
    {
      "cell_type": "code",
      "metadata": {
        "id": "v9BrG-mM1FiB",
        "colab_type": "code",
        "colab": {}
      },
      "source": [
        "model = nn.Sequential(\n",
        "    conv_and_res(1, 8),\n",
        "    conv_and_res(8, 16),\n",
        "    conv_and_res(16, 32),\n",
        "    conv_and_res(32, 16),\n",
        "    conv2(16, 10),\n",
        "    Flatten()\n",
        ")"
      ],
      "execution_count": 0,
      "outputs": []
    },
    {
      "cell_type": "code",
      "metadata": {
        "id": "UOKQvEeG1FiF",
        "colab_type": "code",
        "colab": {}
      },
      "source": [
        "learn = Learner(data, model, loss_func = nn.CrossEntropyLoss(), metrics=accuracy)"
      ],
      "execution_count": 0,
      "outputs": []
    },
    {
      "cell_type": "code",
      "metadata": {
        "id": "tMTSKKsD1FiK",
        "colab_type": "code",
        "outputId": "905830c8-d01e-4fac-b93f-6be1833cf8ca",
        "colab": {
          "base_uri": "https://localhost:8080/",
          "height": 376
        }
      },
      "source": [
        "learn.lr_find(end_lr=100)\n",
        "learn.recorder.plot()"
      ],
      "execution_count": 0,
      "outputs": [
        {
          "output_type": "display_data",
          "data": {
            "text/html": [
              "\n",
              "    <div>\n",
              "        <style>\n",
              "            /* Turns off some styling */\n",
              "            progress {\n",
              "                /* gets rid of default border in Firefox and Opera. */\n",
              "                border: none;\n",
              "                /* Needs to be in here for Safari polyfill so background images work as expected. */\n",
              "                background-size: auto;\n",
              "            }\n",
              "            .progress-bar-interrupted, .progress-bar-interrupted::-webkit-progress-bar {\n",
              "                background: #F44336;\n",
              "            }\n",
              "        </style>\n",
              "      <progress value='0' class='' max='1' style='width:300px; height:20px; vertical-align: middle;'></progress>\n",
              "      0.00% [0/1 00:00<00:00]\n",
              "    </div>\n",
              "    \n",
              "<table border=\"1\" class=\"dataframe\">\n",
              "  <thead>\n",
              "    <tr style=\"text-align: left;\">\n",
              "      <th>epoch</th>\n",
              "      <th>train_loss</th>\n",
              "      <th>valid_loss</th>\n",
              "      <th>accuracy</th>\n",
              "      <th>time</th>\n",
              "    </tr>\n",
              "  </thead>\n",
              "  <tbody>\n",
              "  </tbody>\n",
              "</table><p>\n",
              "\n",
              "    <div>\n",
              "        <style>\n",
              "            /* Turns off some styling */\n",
              "            progress {\n",
              "                /* gets rid of default border in Firefox and Opera. */\n",
              "                border: none;\n",
              "                /* Needs to be in here for Safari polyfill so background images work as expected. */\n",
              "                background-size: auto;\n",
              "            }\n",
              "            .progress-bar-interrupted, .progress-bar-interrupted::-webkit-progress-bar {\n",
              "                background: #F44336;\n",
              "            }\n",
              "        </style>\n",
              "      <progress value='99' class='' max='468' style='width:300px; height:20px; vertical-align: middle;'></progress>\n",
              "      21.15% [99/468 00:10<00:40 3.2971]\n",
              "    </div>\n",
              "    "
            ],
            "text/plain": [
              "<IPython.core.display.HTML object>"
            ]
          },
          "metadata": {
            "tags": []
          }
        },
        {
          "output_type": "stream",
          "text": [
            "LR Finder is complete, type {learner_name}.recorder.plot() to see the graph.\n"
          ],
          "name": "stdout"
        },
        {
          "output_type": "display_data",
          "data": {
            "image/png": "[encoded data removed]",
            "text/plain": [
              "<Figure size 432x288 with 1 Axes>"
            ]
          },
          "metadata": {
            "tags": [],
            "needs_background": "light"
          }
        }
      ]
    },
    {
      "cell_type": "code",
      "metadata": {
        "id": "KjPy9Rde1FiO",
        "colab_type": "code",
        "outputId": "1ce4c0cc-df6c-4a66-9e90-d082ca0b7756",
        "colab": {
          "base_uri": "https://localhost:8080/",
          "height": 421
        }
      },
      "source": [
        "learn.fit_one_cycle(12, max_lr=0.05)"
      ],
      "execution_count": 0,
      "outputs": [
        {
          "output_type": "display_data",
          "data": {
            "text/html": [
              "<table border=\"1\" class=\"dataframe\">\n",
              "  <thead>\n",
              "    <tr style=\"text-align: left;\">\n",
              "      <th>epoch</th>\n",
              "      <th>train_loss</th>\n",
              "      <th>valid_loss</th>\n",
              "      <th>accuracy</th>\n",
              "      <th>time</th>\n",
              "    </tr>\n",
              "  </thead>\n",
              "  <tbody>\n",
              "    <tr>\n",
              "      <td>0</td>\n",
              "      <td>0.216775</td>\n",
              "      <td>0.129448</td>\n",
              "      <td>0.963800</td>\n",
              "      <td>00:53</td>\n",
              "    </tr>\n",
              "    <tr>\n",
              "      <td>1</td>\n",
              "      <td>0.140731</td>\n",
              "      <td>0.103154</td>\n",
              "      <td>0.965800</td>\n",
              "      <td>00:53</td>\n",
              "    </tr>\n",
              "    <tr>\n",
              "      <td>2</td>\n",
              "      <td>0.102219</td>\n",
              "      <td>0.096704</td>\n",
              "      <td>0.969100</td>\n",
              "      <td>00:53</td>\n",
              "    </tr>\n",
              "    <tr>\n",
              "      <td>3</td>\n",
              "      <td>0.080664</td>\n",
              "      <td>0.064158</td>\n",
              "      <td>0.979700</td>\n",
              "      <td>00:53</td>\n",
              "    </tr>\n",
              "    <tr>\n",
              "      <td>4</td>\n",
              "      <td>0.075087</td>\n",
              "      <td>0.078727</td>\n",
              "      <td>0.975000</td>\n",
              "      <td>00:54</td>\n",
              "    </tr>\n",
              "    <tr>\n",
              "      <td>5</td>\n",
              "      <td>0.066923</td>\n",
              "      <td>0.042954</td>\n",
              "      <td>0.986300</td>\n",
              "      <td>00:54</td>\n",
              "    </tr>\n",
              "    <tr>\n",
              "      <td>6</td>\n",
              "      <td>0.050913</td>\n",
              "      <td>0.169682</td>\n",
              "      <td>0.945100</td>\n",
              "      <td>00:53</td>\n",
              "    </tr>\n",
              "    <tr>\n",
              "      <td>7</td>\n",
              "      <td>0.040024</td>\n",
              "      <td>0.027039</td>\n",
              "      <td>0.991900</td>\n",
              "      <td>00:54</td>\n",
              "    </tr>\n",
              "    <tr>\n",
              "      <td>8</td>\n",
              "      <td>0.030549</td>\n",
              "      <td>0.027477</td>\n",
              "      <td>0.992100</td>\n",
              "      <td>00:54</td>\n",
              "    </tr>\n",
              "    <tr>\n",
              "      <td>9</td>\n",
              "      <td>0.024930</td>\n",
              "      <td>0.019050</td>\n",
              "      <td>0.993700</td>\n",
              "      <td>00:56</td>\n",
              "    </tr>\n",
              "    <tr>\n",
              "      <td>10</td>\n",
              "      <td>0.020932</td>\n",
              "      <td>0.015263</td>\n",
              "      <td>0.995100</td>\n",
              "      <td>00:58</td>\n",
              "    </tr>\n",
              "    <tr>\n",
              "      <td>11</td>\n",
              "      <td>0.020800</td>\n",
              "      <td>0.013468</td>\n",
              "      <td>0.995600</td>\n",
              "      <td>00:57</td>\n",
              "    </tr>\n",
              "  </tbody>\n",
              "</table>"
            ],
            "text/plain": [
              "<IPython.core.display.HTML object>"
            ]
          },
          "metadata": {
            "tags": []
          }
        }
      ]
    },
    {
      "cell_type": "code",
      "metadata": {
        "id": "BOBLbFnJ1FiR",
        "colab_type": "code",
        "outputId": "2e19d38f-4edd-4ff3-fe42-ce44ad6946d0",
        "colab": {
          "base_uri": "https://localhost:8080/",
          "height": 876
        }
      },
      "source": [
        "print(learn.summary())"
      ],
      "execution_count": 41,
      "outputs": [
        {
          "output_type": "stream",
          "text": [
            "Sequential\n",
            "======================================================================\n",
            "Layer (type)         Output Shape         Param #    Trainable \n",
            "======================================================================\n",
            "Conv2d               [8, 14, 14]          72         True      \n",
            "______________________________________________________________________\n",
            "ReLU                 [8, 14, 14]          0          False     \n",
            "______________________________________________________________________\n",
            "BatchNorm2d          [8, 14, 14]          16         True      \n",
            "______________________________________________________________________\n",
            "Conv2d               [16, 7, 7]           1,152      True      \n",
            "______________________________________________________________________\n",
            "ReLU                 [16, 7, 7]           0          False     \n",
            "______________________________________________________________________\n",
            "BatchNorm2d          [16, 7, 7]           32         True      \n",
            "______________________________________________________________________\n",
            "Conv2d               [32, 4, 4]           4,608      True      \n",
            "______________________________________________________________________\n",
            "ReLU                 [32, 4, 4]           0          False     \n",
            "______________________________________________________________________\n",
            "BatchNorm2d          [32, 4, 4]           64         True      \n",
            "______________________________________________________________________\n",
            "Conv2d               [16, 2, 2]           4,608      True      \n",
            "______________________________________________________________________\n",
            "ReLU                 [16, 2, 2]           0          False     \n",
            "______________________________________________________________________\n",
            "BatchNorm2d          [16, 2, 2]           32         True      \n",
            "______________________________________________________________________\n",
            "Conv2d               [10, 1, 1]           1,440      True      \n",
            "______________________________________________________________________\n",
            "ReLU                 [10, 1, 1]           0          False     \n",
            "______________________________________________________________________\n",
            "BatchNorm2d          [10, 1, 1]           20         True      \n",
            "______________________________________________________________________\n",
            "Flatten              [10]                 0          False     \n",
            "______________________________________________________________________\n",
            "\n",
            "Total params: 12,044\n",
            "Total trainable params: 12,044\n",
            "Total non-trainable params: 0\n",
            "Optimized with 'torch.optim.adam.Adam', betas=(0.9, 0.99)\n",
            "Using true weight decay as discussed in https://www.fast.ai/2018/07/02/adam-weight-decay/ \n",
            "Loss function : CrossEntropyLoss\n",
            "======================================================================\n",
            "Callbacks functions applied \n",
            "\n"
          ],
          "name": "stdout"
        }
      ]
    },
    {
      "cell_type": "markdown",
      "metadata": {
        "id": "-pLoOAy81FiW",
        "colab_type": "text"
      },
      "source": [
        "## fin"
      ]
    },
    {
      "cell_type": "code",
      "metadata": {
        "id": "lrKKB75p1FiX",
        "colab_type": "code",
        "colab": {}
      },
      "source": [
        ""
      ],
      "execution_count": 0,
      "outputs": []
    }
  ]
}