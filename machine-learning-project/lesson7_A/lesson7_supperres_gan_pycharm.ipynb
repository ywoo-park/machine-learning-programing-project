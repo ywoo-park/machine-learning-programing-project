{
  "nbformat": 4,
  "nbformat_minor": 0,
  "metadata": {
    "colab": {
      "name": "lesson7-supperres-gan-pycharm.ipynb",
      "provenance": [],
      "collapsed_sections": []
    },
    "kernelspec": {
      "name": "python3",
      "display_name": "Python 3"
    }
  },
  "cells": [
    {
      "cell_type": "markdown",
      "metadata": {
        "id": "rUVWCA1b1VDT",
        "colab_type": "text"
      },
      "source": [
        "1. suppress_gan.py를 생성하고 초반부의 crappifier class를 debugging 한 결과 "
      ]
    },
    {
      "cell_type": "markdown",
      "metadata": {
        "id": "cj5MKTBI0ZnO",
        "colab_type": "text"
      },
      "source": [
        "![title](https://user-images.githubusercontent.com/23696493/83329930-143daf80-a2c7-11ea-9c4b-f27db8258ded.PNG)"
      ]
    },
    {
      "cell_type": "markdown",
      "metadata": {
        "id": "p-9EFxB135tX",
        "colab_type": "text"
      },
      "source": [
        "2. (디버깅 진행시 오류)\n",
        "\n",
        "더이상 디버깅이 불가능하여 lesson7-supperres-gan ipynb를 통해 학습한 내용은 따로 commit해서 공유드립니다."
      ]
    },
    {
      "cell_type": "markdown",
      "metadata": {
        "id": "V5Rn1NA64EvD",
        "colab_type": "text"
      },
      "source": [
        "![title](https://user-images.githubusercontent.com/23696493/83330341-346e6e00-a2c9-11ea-876e-1a5d92d1a251.PNG)"
      ]
    }
  ]
}